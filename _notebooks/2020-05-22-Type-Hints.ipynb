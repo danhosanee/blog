{
 "cells": [
  {
   "cell_type": "markdown",
   "metadata": {},
   "source": [
    "# Using Type Hints In Python\n",
    "> Embellish your functions \n",
    "- toc: true\n",
    "- badges : true\n",
    "- comments : true\n",
    "- author : Dan Hosanee\n",
    "- categories : [python]\n",
    "- image : images/pythonwithdates.jpg"
   ]
  },
  {
   "cell_type": "markdown",
   "metadata": {},
   "source": [
    "## About\n",
    "\n",
    "- Python type hints enable you to describe the inputs and excepted output\n",
    "\n",
    "- Be more descriptive with functions and methods\n",
    "\n",
    "- Minimise descriptions required in docstrings"
   ]
  },
  {
   "cell_type": "markdown",
   "metadata": {},
   "source": [
    "## Example \n",
    "\n",
    "Let looks at a simple function that multiplies an integer by 2"
   ]
  },
  {
   "cell_type": "code",
   "execution_count": 6,
   "metadata": {},
   "outputs": [
    {
     "data": {
      "text/plain": [
       "7"
      ]
     },
     "execution_count": 6,
     "metadata": {},
     "output_type": "execute_result"
    }
   ],
   "source": [
    "def add_by_two(x):\n",
    "    return x + 2\n",
    "\n",
    "add_by_two(5)"
   ]
  },
  {
   "cell_type": "markdown",
   "metadata": {},
   "source": [
    "With type hints we can add more information to the funciton. \n",
    "\n",
    "- For **inputs** we  have the input variable followed by colon and the hint type\n",
    "\n",
    "- For **outputs** we have a '->' sign followed by the output hint type"
   ]
  },
  {
   "cell_type": "code",
   "execution_count": 7,
   "metadata": {},
   "outputs": [
    {
     "data": {
      "text/plain": [
       "7"
      ]
     },
     "execution_count": 7,
     "metadata": {},
     "output_type": "execute_result"
    }
   ],
   "source": [
    "def add_by_two(x: int) -> int:\n",
    "    return x + 2\n",
    "\n",
    "add_by_two(5)"
   ]
  },
  {
   "cell_type": "markdown",
   "metadata": {},
   "source": [
    "## Note \n",
    "\n",
    "- This does not assert types within the function.\n",
    "\n",
    "- It has **no effects** on the intepreter\n",
    "\n",
    "- Hence if one inputs a string in the above example rather than an integrer it will result in an error"
   ]
  },
  {
   "cell_type": "code",
   "execution_count": 8,
   "metadata": {},
   "outputs": [
    {
     "ename": "TypeError",
     "evalue": "can only concatenate str (not \"int\") to str",
     "output_type": "error",
     "traceback": [
      "\u001b[0;31m---------------------------------------------------------------------------\u001b[0m",
      "\u001b[0;31mTypeError\u001b[0m                                 Traceback (most recent call last)",
      "\u001b[1;32m/Users/danhosanee/Dev/github/blog/_notebooks/2020-09-22-Type-Hints.ipynb Cell 8\u001b[0m in \u001b[0;36m<cell line: 1>\u001b[0;34m()\u001b[0m\n\u001b[0;32m----> <a href='vscode-notebook-cell:/Users/danhosanee/Dev/github/blog/_notebooks/2020-09-22-Type-Hints.ipynb#X22sZmlsZQ%3D%3D?line=0'>1</a>\u001b[0m add_by_two(\u001b[39m'\u001b[39m\u001b[39m4\u001b[39m\u001b[39m'\u001b[39m)\n",
      "\u001b[1;32m/Users/danhosanee/Dev/github/blog/_notebooks/2020-09-22-Type-Hints.ipynb Cell 8\u001b[0m in \u001b[0;36madd_by_two\u001b[0;34m(x)\u001b[0m\n\u001b[1;32m      <a href='vscode-notebook-cell:/Users/danhosanee/Dev/github/blog/_notebooks/2020-09-22-Type-Hints.ipynb#X22sZmlsZQ%3D%3D?line=0'>1</a>\u001b[0m \u001b[39mdef\u001b[39;00m \u001b[39madd_by_two\u001b[39m(x: \u001b[39mint\u001b[39m) \u001b[39m-\u001b[39m\u001b[39m>\u001b[39m \u001b[39mint\u001b[39m:\n\u001b[0;32m----> <a href='vscode-notebook-cell:/Users/danhosanee/Dev/github/blog/_notebooks/2020-09-22-Type-Hints.ipynb#X22sZmlsZQ%3D%3D?line=1'>2</a>\u001b[0m     \u001b[39mreturn\u001b[39;00m x \u001b[39m+\u001b[39;49m \u001b[39m2\u001b[39;49m\n",
      "\u001b[0;31mTypeError\u001b[0m: can only concatenate str (not \"int\") to str"
     ]
    }
   ],
   "source": [
    "add_by_two('4')"
   ]
  }
 ],
 "metadata": {
  "kernelspec": {
   "display_name": "Python 3.10.6 64-bit",
   "language": "python",
   "name": "python3"
  },
  "language_info": {
   "codemirror_mode": {
    "name": "ipython",
    "version": 3
   },
   "file_extension": ".py",
   "mimetype": "text/x-python",
   "name": "python",
   "nbconvert_exporter": "python",
   "pygments_lexer": "ipython3",
   "version": "3.10.6"
  },
  "orig_nbformat": 4,
  "vscode": {
   "interpreter": {
    "hash": "aee8b7b246df8f9039afb4144a1f6fd8d2ca17a180786b69acc140d282b71a49"
   }
  }
 },
 "nbformat": 4,
 "nbformat_minor": 2
}
