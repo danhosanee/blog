{
 "cells": [
  {
   "cell_type": "markdown",
   "id": "5fc21704-9662-4cd9-8043-d3e5c717d9ee",
   "metadata": {
    "jp-MarkdownHeadingCollapsed": true,
    "tags": []
   },
   "source": [
    "# Dates With Python\n",
    "> Dealing with custom date intervals\n",
    "- toc: true\n",
    "- badges: true\n",
    "- comments: true \n",
    "- author: Dan Hosanee\n",
    "- categories: [python]\n",
    "- image: images/pythonwithdates.jpg"
   ]
  },
  {
   "cell_type": "markdown",
   "id": "60c84925-da90-4503-9825-7d03f4c20d24",
   "metadata": {
    "tags": []
   },
   "source": [
    "# About\n",
    "\n",
    "When you are tasked with custom date intervals such as last Friday of each month. "
   ]
  },
  {
   "cell_type": "markdown",
   "id": "db1a4c30-1ef5-497c-9cea-599ad29a436b",
   "metadata": {
    "tags": []
   },
   "source": [
    "## Sources \n",
    "\n",
    "Looking at [stack overflow](https://stackoverflow.com/questions/52721690/calculate-last-friday-of-month-in-pandas) we see a few solutions but the ideal answer for me uses the **date_range** method within pandas.\n",
    "\n",
    "- The solution uses a DataFrame to get the weekly Fridays based on the source input\n",
    "- Then uses the .groupby method on year and month selecting the last value"
   ]
  },
  {
   "cell_type": "code",
   "execution_count": 1,
   "id": "219e7ed8-f3e9-4e14-b16d-b1ba11ea0411",
   "metadata": {},
   "outputs": [
    {
     "data": {
      "text/html": [
       "<div>\n",
       "<style scoped>\n",
       "    .dataframe tbody tr th:only-of-type {\n",
       "        vertical-align: middle;\n",
       "    }\n",
       "\n",
       "    .dataframe tbody tr th {\n",
       "        vertical-align: top;\n",
       "    }\n",
       "\n",
       "    .dataframe thead th {\n",
       "        text-align: right;\n",
       "    }\n",
       "</style>\n",
       "<table border=\"1\" class=\"dataframe\">\n",
       "  <thead>\n",
       "    <tr style=\"text-align: right;\">\n",
       "      <th></th>\n",
       "      <th>Date</th>\n",
       "    </tr>\n",
       "  </thead>\n",
       "  <tbody>\n",
       "    <tr>\n",
       "      <th>27</th>\n",
       "      <td>2022-01-28</td>\n",
       "    </tr>\n",
       "    <tr>\n",
       "      <th>55</th>\n",
       "      <td>2022-02-25</td>\n",
       "    </tr>\n",
       "    <tr>\n",
       "      <th>83</th>\n",
       "      <td>2022-03-25</td>\n",
       "    </tr>\n",
       "    <tr>\n",
       "      <th>118</th>\n",
       "      <td>2022-04-29</td>\n",
       "    </tr>\n",
       "    <tr>\n",
       "      <th>146</th>\n",
       "      <td>2022-05-27</td>\n",
       "    </tr>\n",
       "    <tr>\n",
       "      <th>174</th>\n",
       "      <td>2022-06-24</td>\n",
       "    </tr>\n",
       "    <tr>\n",
       "      <th>209</th>\n",
       "      <td>2022-07-29</td>\n",
       "    </tr>\n",
       "    <tr>\n",
       "      <th>237</th>\n",
       "      <td>2022-08-26</td>\n",
       "    </tr>\n",
       "    <tr>\n",
       "      <th>272</th>\n",
       "      <td>2022-09-30</td>\n",
       "    </tr>\n",
       "    <tr>\n",
       "      <th>300</th>\n",
       "      <td>2022-10-28</td>\n",
       "    </tr>\n",
       "    <tr>\n",
       "      <th>328</th>\n",
       "      <td>2022-11-25</td>\n",
       "    </tr>\n",
       "    <tr>\n",
       "      <th>363</th>\n",
       "      <td>2022-12-30</td>\n",
       "    </tr>\n",
       "  </tbody>\n",
       "</table>\n",
       "</div>"
      ],
      "text/plain": [
       "          Date\n",
       "27  2022-01-28\n",
       "55  2022-02-25\n",
       "83  2022-03-25\n",
       "118 2022-04-29\n",
       "146 2022-05-27\n",
       "174 2022-06-24\n",
       "209 2022-07-29\n",
       "237 2022-08-26\n",
       "272 2022-09-30\n",
       "300 2022-10-28\n",
       "328 2022-11-25\n",
       "363 2022-12-30"
      ]
     },
     "execution_count": 1,
     "metadata": {},
     "output_type": "execute_result"
    }
   ],
   "source": [
    "#collapse-output\n",
    "import pandas as pd\n",
    "from pandas.testing import assert_frame_equal\n",
    "\n",
    "# Source Input \n",
    "df = pd.DataFrame({'Date' : pd.date_range(start=pd.to_datetime('2022-01-01'), end=pd.to_datetime('2022-12-31'), freq='D')})\n",
    "\n",
    "# Create DataFrame with all Fridays in the daterange for min and max of df.Date\n",
    "fridays = pd.DataFrame({'datetime': pd.date_range(df.Date.min(), df.Date.max(), freq='W-FRI')})\n",
    "\n",
    "# use groubpy and last, to get the last Friday of each month into a list             \n",
    "last_fridays_in_daterange = fridays.groupby([fridays.datetime.dt.year, fridays.datetime.dt.month]).last()['datetime'].tolist()\n",
    "\n",
    "# find the data for the last Friday of the month\n",
    "df[df.Date.isin(last_fridays_in_daterange)]"
   ]
  },
  {
   "cell_type": "markdown",
   "id": "5c91b886-1c34-44fa-808d-0531a1d2cab0",
   "metadata": {
    "tags": []
   },
   "source": [
    "## Using Pandas Offset Feature "
   ]
  },
  {
   "cell_type": "markdown",
   "id": "80d9a4e4-f384-4f8f-9795-8c718e143796",
   "metadata": {},
   "source": [
    "The pandas documentations has a lot of custom date increments within the [Date offsets section](https://pandas.pydata.org/pandas-docs/stable/user_guide/timeseries.html#dateoffset-objects)\n",
    "\n",
    "Following the above if we implement the offsets methods we can achieve the same result without needing to group by. "
   ]
  },
  {
   "cell_type": "code",
   "execution_count": 2,
   "id": "d0cda2f6-8907-4ae6-8589-542af4e2ba80",
   "metadata": {},
   "outputs": [
    {
     "data": {
      "text/html": [
       "<div>\n",
       "<style scoped>\n",
       "    .dataframe tbody tr th:only-of-type {\n",
       "        vertical-align: middle;\n",
       "    }\n",
       "\n",
       "    .dataframe tbody tr th {\n",
       "        vertical-align: top;\n",
       "    }\n",
       "\n",
       "    .dataframe thead th {\n",
       "        text-align: right;\n",
       "    }\n",
       "</style>\n",
       "<table border=\"1\" class=\"dataframe\">\n",
       "  <thead>\n",
       "    <tr style=\"text-align: right;\">\n",
       "      <th></th>\n",
       "      <th>Date</th>\n",
       "    </tr>\n",
       "  </thead>\n",
       "  <tbody>\n",
       "    <tr>\n",
       "      <th>27</th>\n",
       "      <td>2022-01-28</td>\n",
       "    </tr>\n",
       "    <tr>\n",
       "      <th>55</th>\n",
       "      <td>2022-02-25</td>\n",
       "    </tr>\n",
       "    <tr>\n",
       "      <th>83</th>\n",
       "      <td>2022-03-25</td>\n",
       "    </tr>\n",
       "    <tr>\n",
       "      <th>118</th>\n",
       "      <td>2022-04-29</td>\n",
       "    </tr>\n",
       "    <tr>\n",
       "      <th>146</th>\n",
       "      <td>2022-05-27</td>\n",
       "    </tr>\n",
       "    <tr>\n",
       "      <th>174</th>\n",
       "      <td>2022-06-24</td>\n",
       "    </tr>\n",
       "    <tr>\n",
       "      <th>209</th>\n",
       "      <td>2022-07-29</td>\n",
       "    </tr>\n",
       "    <tr>\n",
       "      <th>237</th>\n",
       "      <td>2022-08-26</td>\n",
       "    </tr>\n",
       "    <tr>\n",
       "      <th>272</th>\n",
       "      <td>2022-09-30</td>\n",
       "    </tr>\n",
       "    <tr>\n",
       "      <th>300</th>\n",
       "      <td>2022-10-28</td>\n",
       "    </tr>\n",
       "    <tr>\n",
       "      <th>328</th>\n",
       "      <td>2022-11-25</td>\n",
       "    </tr>\n",
       "    <tr>\n",
       "      <th>363</th>\n",
       "      <td>2022-12-30</td>\n",
       "    </tr>\n",
       "  </tbody>\n",
       "</table>\n",
       "</div>"
      ],
      "text/plain": [
       "          Date\n",
       "27  2022-01-28\n",
       "55  2022-02-25\n",
       "83  2022-03-25\n",
       "118 2022-04-29\n",
       "146 2022-05-27\n",
       "174 2022-06-24\n",
       "209 2022-07-29\n",
       "237 2022-08-26\n",
       "272 2022-09-30\n",
       "300 2022-10-28\n",
       "328 2022-11-25\n",
       "363 2022-12-30"
      ]
     },
     "execution_count": 2,
     "metadata": {},
     "output_type": "execute_result"
    }
   ],
   "source": [
    "#collapse-output\n",
    "LastWeekOfMonthFri = pd.date_range(df.Date.min(),df.Date.max(),freq=pd.offsets.LastWeekOfMonth(weekday=4))\n",
    "\n",
    "df[df.Date.isin(LastWeekOfMonthFri)]"
   ]
  },
  {
   "cell_type": "markdown",
   "id": "3760e411-0a01-487b-aa73-20726c7f956b",
   "metadata": {},
   "source": [
    "Reconcile the two methods"
   ]
  },
  {
   "cell_type": "code",
   "execution_count": 3,
   "id": "54e60a8d-ef93-4fee-b8af-5452c0a8b605",
   "metadata": {},
   "outputs": [],
   "source": [
    "assert_frame_equal(\n",
    "        df[df.Date.isin(last_fridays_in_daterange)]\n",
    "       ,df[df.Date.isin(LastWeekOfMonthFri)]\n",
    ")"
   ]
  },
  {
   "cell_type": "markdown",
   "id": "9a9a36fa-1751-453c-8715-428ccf9eac36",
   "metadata": {
    "tags": []
   },
   "source": [
    "## Combine with pd.map\n",
    "\n",
    "Using the pd.offsets within map method were able filter or create a new column within the df easily."
   ]
  },
  {
   "cell_type": "code",
   "execution_count": 4,
   "id": "65170622-78f0-4626-b54e-9f1eec8afcec",
   "metadata": {},
   "outputs": [
    {
     "data": {
      "text/html": [
       "<div>\n",
       "<style scoped>\n",
       "    .dataframe tbody tr th:only-of-type {\n",
       "        vertical-align: middle;\n",
       "    }\n",
       "\n",
       "    .dataframe tbody tr th {\n",
       "        vertical-align: top;\n",
       "    }\n",
       "\n",
       "    .dataframe thead th {\n",
       "        text-align: right;\n",
       "    }\n",
       "</style>\n",
       "<table border=\"1\" class=\"dataframe\">\n",
       "  <thead>\n",
       "    <tr style=\"text-align: right;\">\n",
       "      <th></th>\n",
       "      <th>Date</th>\n",
       "    </tr>\n",
       "  </thead>\n",
       "  <tbody>\n",
       "    <tr>\n",
       "      <th>27</th>\n",
       "      <td>2022-01-28</td>\n",
       "    </tr>\n",
       "    <tr>\n",
       "      <th>55</th>\n",
       "      <td>2022-02-25</td>\n",
       "    </tr>\n",
       "    <tr>\n",
       "      <th>83</th>\n",
       "      <td>2022-03-25</td>\n",
       "    </tr>\n",
       "    <tr>\n",
       "      <th>118</th>\n",
       "      <td>2022-04-29</td>\n",
       "    </tr>\n",
       "    <tr>\n",
       "      <th>146</th>\n",
       "      <td>2022-05-27</td>\n",
       "    </tr>\n",
       "    <tr>\n",
       "      <th>174</th>\n",
       "      <td>2022-06-24</td>\n",
       "    </tr>\n",
       "    <tr>\n",
       "      <th>209</th>\n",
       "      <td>2022-07-29</td>\n",
       "    </tr>\n",
       "    <tr>\n",
       "      <th>237</th>\n",
       "      <td>2022-08-26</td>\n",
       "    </tr>\n",
       "    <tr>\n",
       "      <th>272</th>\n",
       "      <td>2022-09-30</td>\n",
       "    </tr>\n",
       "    <tr>\n",
       "      <th>300</th>\n",
       "      <td>2022-10-28</td>\n",
       "    </tr>\n",
       "    <tr>\n",
       "      <th>328</th>\n",
       "      <td>2022-11-25</td>\n",
       "    </tr>\n",
       "    <tr>\n",
       "      <th>363</th>\n",
       "      <td>2022-12-30</td>\n",
       "    </tr>\n",
       "  </tbody>\n",
       "</table>\n",
       "</div>"
      ],
      "text/plain": [
       "          Date\n",
       "27  2022-01-28\n",
       "55  2022-02-25\n",
       "83  2022-03-25\n",
       "118 2022-04-29\n",
       "146 2022-05-27\n",
       "174 2022-06-24\n",
       "209 2022-07-29\n",
       "237 2022-08-26\n",
       "272 2022-09-30\n",
       "300 2022-10-28\n",
       "328 2022-11-25\n",
       "363 2022-12-30"
      ]
     },
     "execution_count": 4,
     "metadata": {},
     "output_type": "execute_result"
    }
   ],
   "source": [
    "#collapse-output\n",
    "LastWeekOfMonthFriMap = df.Date.map(pd.offsets.LastWeekOfMonth(weekday=4).rollforward)\n",
    "df[df.Date.isin(LastWeekOfMonthFriMap.unique())]"
   ]
  },
  {
   "cell_type": "markdown",
   "id": "f175f601-8cbc-4edc-8587-1a45b475c33f",
   "metadata": {},
   "source": [
    "Note that the rollforward method will shift/roll the date down when the date is not an offset\n",
    "- Hence when the Date is the 28-01-2022 Offset will equal 28-01-2022 Rather than 25-02-2022\n",
    "- Something to keep in mind when aggregating values"
   ]
  },
  {
   "cell_type": "code",
   "execution_count": 5,
   "id": "5e5eb1d7-efd4-4ed3-ae0a-251ed764a788",
   "metadata": {},
   "outputs": [
    {
     "name": "stderr",
     "output_type": "stream",
     "text": [
      "/Library/Frameworks/Python.framework/Versions/3.10/lib/python3.10/site-packages/pandas/core/base.py:880: FutureWarning: DateOffset.__call__ is deprecated and will be removed in a future version.  Use `offset + other` instead.\n",
      "  new_values = map_f(values, mapper)\n"
     ]
    },
    {
     "data": {
      "text/html": [
       "<div>\n",
       "<style scoped>\n",
       "    .dataframe tbody tr th:only-of-type {\n",
       "        vertical-align: middle;\n",
       "    }\n",
       "\n",
       "    .dataframe tbody tr th {\n",
       "        vertical-align: top;\n",
       "    }\n",
       "\n",
       "    .dataframe thead th {\n",
       "        text-align: right;\n",
       "    }\n",
       "</style>\n",
       "<table border=\"1\" class=\"dataframe\">\n",
       "  <thead>\n",
       "    <tr style=\"text-align: right;\">\n",
       "      <th></th>\n",
       "      <th>Date</th>\n",
       "      <th>LastWeekOfMonthFriMap</th>\n",
       "      <th>LastWeekOfMonthFriMapRollFwd</th>\n",
       "    </tr>\n",
       "  </thead>\n",
       "  <tbody>\n",
       "    <tr>\n",
       "      <th>27</th>\n",
       "      <td>2022-01-28</td>\n",
       "      <td>2022-02-25</td>\n",
       "      <td>2022-01-28</td>\n",
       "    </tr>\n",
       "    <tr>\n",
       "      <th>55</th>\n",
       "      <td>2022-02-25</td>\n",
       "      <td>2022-03-25</td>\n",
       "      <td>2022-02-25</td>\n",
       "    </tr>\n",
       "    <tr>\n",
       "      <th>83</th>\n",
       "      <td>2022-03-25</td>\n",
       "      <td>2022-04-29</td>\n",
       "      <td>2022-03-25</td>\n",
       "    </tr>\n",
       "    <tr>\n",
       "      <th>118</th>\n",
       "      <td>2022-04-29</td>\n",
       "      <td>2022-05-27</td>\n",
       "      <td>2022-04-29</td>\n",
       "    </tr>\n",
       "    <tr>\n",
       "      <th>146</th>\n",
       "      <td>2022-05-27</td>\n",
       "      <td>2022-06-24</td>\n",
       "      <td>2022-05-27</td>\n",
       "    </tr>\n",
       "  </tbody>\n",
       "</table>\n",
       "</div>"
      ],
      "text/plain": [
       "          Date LastWeekOfMonthFriMap LastWeekOfMonthFriMapRollFwd\n",
       "27  2022-01-28            2022-02-25                   2022-01-28\n",
       "55  2022-02-25            2022-03-25                   2022-02-25\n",
       "83  2022-03-25            2022-04-29                   2022-03-25\n",
       "118 2022-04-29            2022-05-27                   2022-04-29\n",
       "146 2022-05-27            2022-06-24                   2022-05-27"
      ]
     },
     "execution_count": 5,
     "metadata": {},
     "output_type": "execute_result"
    }
   ],
   "source": [
    "#collapse-output\n",
    "LastWeekOfMonthFriMap = df.Date.map(pd.offsets.LastWeekOfMonth(weekday=4))\n",
    "df['LastWeekOfMonthFriMap'] = LastWeekOfMonthFriMap\n",
    "\n",
    "LastWeekOfMonthFriMapRollFwd = df.Date.map(pd.offsets.LastWeekOfMonth(weekday=4).rollforward)\n",
    "df['LastWeekOfMonthFriMapRollFwd'] = LastWeekOfMonthFriMapRollFwd\n",
    "\n",
    "df[df.LastWeekOfMonthFriMap!=LastWeekOfMonthFriMapRollFwd].head()"
   ]
  }
 ],
 "metadata": {
  "kernelspec": {
   "display_name": "Python 3.10.6 64-bit",
   "language": "python",
   "name": "python3"
  },
  "language_info": {
   "codemirror_mode": {
    "name": "ipython",
    "version": 3
   },
   "file_extension": ".py",
   "mimetype": "text/x-python",
   "name": "python",
   "nbconvert_exporter": "python",
   "pygments_lexer": "ipython3",
   "version": "3.10.6"
  },
  "vscode": {
   "interpreter": {
    "hash": "aee8b7b246df8f9039afb4144a1f6fd8d2ca17a180786b69acc140d282b71a49"
   }
  }
 },
 "nbformat": 4,
 "nbformat_minor": 5
}
